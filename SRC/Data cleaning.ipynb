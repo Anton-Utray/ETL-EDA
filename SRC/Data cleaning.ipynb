{
 "cells": [
  {
   "cell_type": "code",
   "execution_count": 27,
   "metadata": {},
   "outputs": [],
   "source": [
    "import pandas as pd\n",
    "import numpy as np\n",
    "import warnings\n",
    "warnings.filterwarnings('ignore')\n",
    "pd.set_option('display.max_columns', None)\n",
    "pd.set_option('display.max_rows', None)\n",
    "from repo_funciones import *\n"
   ]
  },
  {
   "cell_type": "code",
   "execution_count": 28,
   "metadata": {},
   "outputs": [],
   "source": [
    "censo=pd.read_csv('../DATA/censo_clean.csv', encoding='latin-1')"
   ]
  },
  {
   "cell_type": "code",
   "execution_count": 29,
   "metadata": {},
   "outputs": [
    {
     "data": {
      "text/plain": [
       "pandas.core.frame.DataFrame"
      ]
     },
     "execution_count": 29,
     "metadata": {},
     "output_type": "execute_result"
    }
   ],
   "source": [
    "type(censo)"
   ]
  },
  {
   "cell_type": "code",
   "execution_count": 30,
   "metadata": {},
   "outputs": [
    {
     "data": {
      "text/html": [
       "<div>\n",
       "<style scoped>\n",
       "    .dataframe tbody tr th:only-of-type {\n",
       "        vertical-align: middle;\n",
       "    }\n",
       "\n",
       "    .dataframe tbody tr th {\n",
       "        vertical-align: top;\n",
       "    }\n",
       "\n",
       "    .dataframe thead th {\n",
       "        text-align: right;\n",
       "    }\n",
       "</style>\n",
       "<table border=\"1\" class=\"dataframe\">\n",
       "  <thead>\n",
       "    <tr style=\"text-align: right;\">\n",
       "      <th></th>\n",
       "      <th>fuente</th>\n",
       "      <th>Count</th>\n",
       "    </tr>\n",
       "  </thead>\n",
       "  <tbody>\n",
       "    <tr>\n",
       "      <th>0</th>\n",
       "      <td>No especificado</td>\n",
       "      <td>32</td>\n",
       "    </tr>\n",
       "    <tr>\n",
       "      <th>1</th>\n",
       "      <td>Del servicio público de agua</td>\n",
       "      <td>16</td>\n",
       "    </tr>\n",
       "    <tr>\n",
       "      <th>2</th>\n",
       "      <td>De un pozo comunitario</td>\n",
       "      <td>16</td>\n",
       "    </tr>\n",
       "    <tr>\n",
       "      <th>3</th>\n",
       "      <td>De un pozo particular</td>\n",
       "      <td>16</td>\n",
       "    </tr>\n",
       "    <tr>\n",
       "      <th>4</th>\n",
       "      <td>De una pipa</td>\n",
       "      <td>16</td>\n",
       "    </tr>\n",
       "    <tr>\n",
       "      <th>5</th>\n",
       "      <td>De otra vivienda</td>\n",
       "      <td>16</td>\n",
       "    </tr>\n",
       "    <tr>\n",
       "      <th>6</th>\n",
       "      <td>De la lluvia</td>\n",
       "      <td>16</td>\n",
       "    </tr>\n",
       "    <tr>\n",
       "      <th>7</th>\n",
       "      <td>De otro lugar</td>\n",
       "      <td>16</td>\n",
       "    </tr>\n",
       "    <tr>\n",
       "      <th>8</th>\n",
       "      <td>Acarreada de un pozo</td>\n",
       "      <td>16</td>\n",
       "    </tr>\n",
       "    <tr>\n",
       "      <th>9</th>\n",
       "      <td>Acarreada de llave comunitaria</td>\n",
       "      <td>16</td>\n",
       "    </tr>\n",
       "    <tr>\n",
       "      <th>10</th>\n",
       "      <td>Acarreada de otra vivienda</td>\n",
       "      <td>16</td>\n",
       "    </tr>\n",
       "    <tr>\n",
       "      <th>11</th>\n",
       "      <td>La trae una pipa</td>\n",
       "      <td>16</td>\n",
       "    </tr>\n",
       "    <tr>\n",
       "      <th>12</th>\n",
       "      <td>La recolectan de la lluvia</td>\n",
       "      <td>16</td>\n",
       "    </tr>\n",
       "    <tr>\n",
       "      <th>13</th>\n",
       "      <td>Acarreada de un río, arroyo o lago</td>\n",
       "      <td>9</td>\n",
       "    </tr>\n",
       "  </tbody>\n",
       "</table>\n",
       "</div>"
      ],
      "text/plain": [
       "                                fuente  Count\n",
       "0                      No especificado     32\n",
       "1         Del servicio público de agua     16\n",
       "2               De un pozo comunitario     16\n",
       "3                De un pozo particular     16\n",
       "4                          De una pipa     16\n",
       "5                     De otra vivienda     16\n",
       "6                         De la lluvia     16\n",
       "7                        De otro lugar     16\n",
       "8                 Acarreada de un pozo     16\n",
       "9       Acarreada de llave comunitaria     16\n",
       "10          Acarreada de otra vivienda     16\n",
       "11                    La trae una pipa     16\n",
       "12          La recolectan de la lluvia     16\n",
       "13  Acarreada de un río, arroyo o lago      9"
      ]
     },
     "execution_count": 30,
     "metadata": {},
     "output_type": "execute_result"
    }
   ],
   "source": [
    "col_unique_counts(censo, 'fuente')"
   ]
  },
  {
   "cell_type": "code",
   "execution_count": 40,
   "metadata": {},
   "outputs": [],
   "source": [
    "censo.loc[censo['fuente']=='De una pipa' , 'fuente']='Camion cisterna'\n",
    "censo.loc[censo['fuente']=='La trae una pipa' , 'fuente']='Camion cisterna'\n",
    "censo.loc[censo['fuente']=='Acarreada de otra vivienda' , 'fuente']='De otra vivienda'\n",
    "censo.loc[censo['fuente']=='La recolectan de la lluvia' , 'fuente']='De la lluvia'\n",
    "censo.loc[censo['fuente']=='De otro lugar' , 'fuente']='No especificado'\n",
    "censo.loc[censo['fuente']=='Acarreada de un pozo' , 'fuente']='De un pozo comunitario'\n",
    "censo.loc[censo['fuente']=='Acarreada de llave comunitaria' , 'fuente']='Llave o pozo comunitario'\n",
    "censo.loc[censo['fuente']=='De un pozo comunitario' , 'fuente']='Llave o pozo comunitario'"
   ]
  },
  {
   "cell_type": "code",
   "execution_count": 47,
   "metadata": {},
   "outputs": [],
   "source": [
    "censo.loc[censo['fuente']=='De una pipa' , 'disponibilidad']='no'\n",
    "censo.loc[censo['fuente']=='Camion cisterna' , 'disponibilidad']='no'\n",
    "censo.loc[censo['fuente']=='De otra vivienda' , 'disponibilidad']='no'\n",
    "censo.loc[censo['fuente']=='De la lluvia' , 'disponibilidad']='no'\n",
    "censo.loc[censo['fuente']=='No especificado' , 'disponibilidad']='no'\n",
    "censo.loc[censo['fuente']=='Llave o pozo comunitario' , 'disponibilidad']='no'\n",
    "censo.loc[censo['fuente']=='De un pozo particular' , 'disponibilidad']='no'"
   ]
  },
  {
   "cell_type": "code",
   "execution_count": 49,
   "metadata": {},
   "outputs": [],
   "source": [
    "censo_group=censo.groupby(['alcaldia','disponibilidad', 'fuente'])['poblacion'].sum()\n"
   ]
  },
  {
   "cell_type": "code",
   "execution_count": 50,
   "metadata": {},
   "outputs": [],
   "source": [
    "censo_grouped=pd.DataFrame(censo_group)"
   ]
  },
  {
   "cell_type": "code",
   "execution_count": 53,
   "metadata": {},
   "outputs": [
    {
     "data": {
      "text/html": [
       "<div>\n",
       "<style scoped>\n",
       "    .dataframe tbody tr th:only-of-type {\n",
       "        vertical-align: middle;\n",
       "    }\n",
       "\n",
       "    .dataframe tbody tr th {\n",
       "        vertical-align: top;\n",
       "    }\n",
       "\n",
       "    .dataframe thead th {\n",
       "        text-align: right;\n",
       "    }\n",
       "</style>\n",
       "<table border=\"1\" class=\"dataframe\">\n",
       "  <thead>\n",
       "    <tr style=\"text-align: right;\">\n",
       "      <th></th>\n",
       "      <th></th>\n",
       "      <th></th>\n",
       "      <th>poblacion</th>\n",
       "    </tr>\n",
       "    <tr>\n",
       "      <th>alcaldia</th>\n",
       "      <th>disponibilidad</th>\n",
       "      <th>fuente</th>\n",
       "      <th></th>\n",
       "    </tr>\n",
       "  </thead>\n",
       "  <tbody>\n",
       "    <tr>\n",
       "      <th rowspan=\"7\" valign=\"top\">Azcapotzalco</th>\n",
       "      <th rowspan=\"6\" valign=\"top\">no</th>\n",
       "      <th>Camion cisterna</th>\n",
       "      <td>2345</td>\n",
       "    </tr>\n",
       "    <tr>\n",
       "      <th>De la lluvia</th>\n",
       "      <td>15</td>\n",
       "    </tr>\n",
       "    <tr>\n",
       "      <th>De otra vivienda</th>\n",
       "      <td>293</td>\n",
       "    </tr>\n",
       "    <tr>\n",
       "      <th>De un pozo particular</th>\n",
       "      <td>65</td>\n",
       "    </tr>\n",
       "    <tr>\n",
       "      <th>Llave o pozo comunitario</th>\n",
       "      <td>860</td>\n",
       "    </tr>\n",
       "    <tr>\n",
       "      <th>No especificado</th>\n",
       "      <td>525</td>\n",
       "    </tr>\n",
       "    <tr>\n",
       "      <th>si</th>\n",
       "      <th>Del servicio público de agua</th>\n",
       "      <td>426697</td>\n",
       "    </tr>\n",
       "    <tr>\n",
       "      <th rowspan=\"3\" valign=\"top\">Benito Juárez</th>\n",
       "      <th rowspan=\"3\" valign=\"top\">no</th>\n",
       "      <th>Camion cisterna</th>\n",
       "      <td>360</td>\n",
       "    </tr>\n",
       "    <tr>\n",
       "      <th>De la lluvia</th>\n",
       "      <td>8</td>\n",
       "    </tr>\n",
       "    <tr>\n",
       "      <th>De otra vivienda</th>\n",
       "      <td>67</td>\n",
       "    </tr>\n",
       "  </tbody>\n",
       "</table>\n",
       "</div>"
      ],
      "text/plain": [
       "                                                           poblacion\n",
       "alcaldia      disponibilidad fuente                                 \n",
       "Azcapotzalco  no             Camion cisterna                    2345\n",
       "                             De la lluvia                         15\n",
       "                             De otra vivienda                    293\n",
       "                             De un pozo particular                65\n",
       "                             Llave o pozo comunitario            860\n",
       "                             No especificado                     525\n",
       "              si             Del servicio público de agua     426697\n",
       "Benito Juárez no             Camion cisterna                     360\n",
       "                             De la lluvia                          8\n",
       "                             De otra vivienda                     67"
      ]
     },
     "execution_count": 53,
     "metadata": {},
     "output_type": "execute_result"
    }
   ],
   "source": [
    "censo_grouped.head(10)"
   ]
  },
  {
   "cell_type": "code",
   "execution_count": 54,
   "metadata": {},
   "outputs": [],
   "source": [
    "censo_grouped.to_csv('../DATA/censo_grouped.csv')"
   ]
  }
 ],
 "metadata": {
  "kernelspec": {
   "display_name": "Python 3",
   "language": "python",
   "name": "python3"
  },
  "language_info": {
   "codemirror_mode": {
    "name": "ipython",
    "version": 3
   },
   "file_extension": ".py",
   "mimetype": "text/x-python",
   "name": "python",
   "nbconvert_exporter": "python",
   "pygments_lexer": "ipython3",
   "version": "3.11.2"
  },
  "orig_nbformat": 4
 },
 "nbformat": 4,
 "nbformat_minor": 2
}
